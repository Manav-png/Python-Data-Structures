{
  "nbformat": 4,
  "nbformat_minor": 0,
  "metadata": {
    "colab": {
      "provenance": []
    },
    "kernelspec": {
      "name": "python3",
      "display_name": "Python 3"
    },
    "language_info": {
      "name": "python"
    }
  },
  "cells": [
    {
      "cell_type": "markdown",
      "source": [
        "# **Data Types and Structures**\n",
        "\n",
        "\n",
        "---\n",
        "\n",
        "\n"
      ],
      "metadata": {
        "id": "ZmZ7pIf6i-6F"
      }
    },
    {
      "cell_type": "markdown",
      "source": [
        "1. What are data structures, and why are they important?\n",
        "  - Data structures are specialized formats for organizing, storing, and managing data in a computer so that it can be used efficiently.\n",
        "  They provide a way to handle large amounts of data effectively, enabling faster access, modification, and processing.\n",
        "  Common examples of data structures include arrays, linked lists, stacks, queues, trees, graphs, and hash tables.\n",
        "\n",
        "  - They are important because:\n",
        "\n",
        "       Efficiency: Optimize operations like searching, sorting, and inserting.\n",
        "\n",
        "      Memory Management: Minimize wasted space and use memory effectively.\n",
        "\n",
        "      Abstraction: Simplify complex data representation.\n",
        "\n",
        "      Reusability: Standardized structures save development time.\n",
        "\n",
        "      Scalability: Handle large datasets and growing applications.\n",
        "\n",
        "      Problem-Solving: Key to solving computational problems effectively.\n",
        "\n",
        "      Algorithm Foundation: Essential for designing efficient algorithms.\n",
        "\n",
        "      In short, data structures are crucial for managing data effectively and building efficient software.\n",
        "\n",
        "\n",
        "\n",
        "\n",
        "\n",
        "\n",
        "\n",
        "---\n",
        "\n"
      ],
      "metadata": {
        "id": "I4VWUmDAjWrU"
      }
    },
    {
      "cell_type": "markdown",
      "source": [
        "2. Explain the difference between mutable and immutable data types with examples\n",
        "\n",
        " - Mutable Data Types\n",
        "\n",
        "  Mutable data types allow modifications to their contents after they have been created.\n",
        "  This means elements can be added, removed, or updated without creating a new object in memory.\n",
        "\n",
        "  Characteristics of Mutable Data Types:\n",
        "  \n",
        "  Can be modified after creation.\n",
        "  \n",
        "  The object remains the same in memory even after modifications.\n",
        "  \n",
        "  More flexible but requires caution in multi-threaded environments.\n",
        "\n",
        "  \n",
        "    Examples of Mutable Data Types:\n",
        "  Lists, Dictionaries, Sets\n",
        "\n",
        "\n",
        "  - Immutable Data Types\n",
        "\n",
        "    Immutable data types do not allow modifications after their creation. Any operation that appears to modify the object actually creates a new object with the updated value.\n",
        "\n",
        "  Characteristics of Immutable Data Types:\n",
        "\n",
        "       Once created, their values cannot be changed.\n",
        "\n",
        "  Any modification results in the creation of a new object.\n",
        "\n",
        "  More efficient in multi-threaded applications since they prevent unintended modifications.\n",
        "\n",
        "  \n",
        "    Examples of Immutable Data Types:\n",
        "\n",
        "  Strings, Tuples, Integers\n",
        "\n",
        "\n",
        "\n",
        "---\n"
      ],
      "metadata": {
        "id": "Os9Ebn17pjf8"
      }
    },
    {
      "cell_type": "markdown",
      "source": [
        "3. What are the main differences between List and Tuple in Python?\n",
        "\n",
        " - The following are the differences between List and Tuple in Python\n",
        "\n",
        "    \n",
        "    a. Mutability\n",
        "\n",
        "Lists are mutable, meaning their elements can be modified, added, or removed after creation. This makes lists ideal for dynamic data storage.\n",
        "\n",
        "Tuples are immutable, meaning their elements cannot be changed once created. This ensures data integrity and prevents accidental modifications.\n",
        "\n",
        "\n",
        "    b. Syntax\n",
        "\n",
        "Lists are defined using square brackets [].\n",
        "\n",
        "Tuples are defined using parentheses ().\n",
        "This difference in syntax helps distinguish them in code.\n",
        "\n",
        "\n",
        "    c. Performance and Memory Efficiency\n",
        "\n",
        "Tuples are faster than lists because they are immutable, allowing Python to optimize their storage and execution.\n",
        "\n",
        "Lists use more memory as they are dynamically allocated and require extra space for modifications.\n",
        "\n",
        "    d. Modification Capabilities\n",
        "\n",
        "Lists allow modifications, including adding, removing, and changing elements.\n",
        "\n",
        "Tuples do not allow modifications, making them suitable for storing fixed data like configuration settings or database records.\n",
        "\n",
        "\n",
        "    e. Available Methods\n",
        "Lists have more built-in methods for data manipulation, such as .append(), .remove(), and .sort().\n",
        "\n",
        "Tuples have fewer methods, mainly for retrieving information, like .count() and .index().\n",
        "\n",
        "    f. Use Cases\n",
        "\n",
        "  * Use Lists when:\n",
        "\n",
        "    Data needs to change frequently.\n",
        "    \n",
        "    Operations like insertion, deletion, and sorting are required.\n",
        "\n",
        "  * Use Tuples when:\n",
        "\n",
        "  Data should remain constant.\n",
        "\n",
        "  Performance and memory efficiency are a priority.\n",
        "\n",
        "  ---\n",
        "\n"
      ],
      "metadata": {
        "id": "3hJFZux8qxVw"
      }
    },
    {
      "cell_type": "markdown",
      "source": [
        "4. Describe how dictionaries store data\n",
        "\n",
        "  - Dictionaries use a hash table to store key-value pairs. When a key is added, Python's hash() function computes a unique index where the corresponding value is stored. This allows for fast lookups (O(1) time complexity).\n",
        "\n",
        "    If two keys produce the same hash (collision), Python resolves it using probing or chaining. The dictionary dynamically resizes its storage when the number of elements grows beyond a threshold, ensuring efficiency.\n",
        "\n",
        "    From Python 3.7 onwards, dictionaries maintain the insertion order, while earlier versions stored data in an unordered manner.\n",
        "\n",
        "\n",
        "\n",
        "---\n",
        "\n",
        "\n"
      ],
      "metadata": {
        "id": "fG5waak04BHt"
      }
    },
    {
      "cell_type": "markdown",
      "source": [
        "5. Why might you use a set instead of a list in Python?\n",
        "\n",
        " - Uniqueness: Sets automatically remove duplicates, while lists allow them.\n",
        "\n",
        "  - Faster Lookups: Sets have O(1) time complexity for membership checks, while lists take O(n).\n",
        "\n",
        "  - Efficient Set Operations: Supports fast union, intersection, and difference operations.\n",
        "\n",
        "  - Memory Efficiency: Uses less memory for large unique datasets.\n",
        "\n",
        "\n",
        "---\n",
        "\n"
      ],
      "metadata": {
        "id": "3roTL0x640Rv"
      }
    },
    {
      "cell_type": "markdown",
      "source": [
        "6. What is a string in Python, and how is it different from a list?\n",
        "\n",
        "  - A string in Python is a sequence of characters enclosed in single ('), double (\"), or triple (''' \"\"\") quotes. It is an immutable data type, meaning its contents cannot be changed after creation. Strings are widely used for storing and manipulating text.\n",
        "\n",
        "\n",
        "   - A string is a sequence of characters, whereas a list is a collection of elements that can be of any data type.\n",
        "  \n",
        "  The primary difference lies in mutability—strings are immutable, meaning their content cannot be changed after creation, while lists are mutable, allowing modifications such as adding, removing, or updating elements.\n",
        "\n",
        "    Strings are always enclosed in quotes (', \") and are used for text manipulation, whereas lists use square brackets ([]) and are suitable for storing multiple data types. Additionally, lists provide more flexibility with operations like appending and sorting, while strings have specialized methods for text processing.\n",
        "\n",
        "    In summary, strings are fixed sequences of characters, whereas lists offer a dynamic and versatile way to handle collections of elements.\n",
        "\n",
        "\n",
        "\n",
        "---\n",
        "\n"
      ],
      "metadata": {
        "id": "3hzIMlN65U8E"
      }
    },
    {
      "cell_type": "markdown",
      "source": [
        "7. How do tuples ensure data integrity in Python?\n",
        "\n",
        "  - Tuples maintain data integrity through their immutability, meaning their contents cannot be changed after creation. This prevents accidental modifications and ensures consistency.\n",
        "\n",
        "\n",
        "\n",
        "\n",
        "\n",
        "---\n",
        "\n"
      ],
      "metadata": {
        "id": "UqI4qpZA64mJ"
      }
    },
    {
      "cell_type": "markdown",
      "source": [
        "8. What is a hash table, and how does it relate to dictionaries in Python?\n",
        "\n",
        "  - A hash table is a data structure that stores key-value pairs using a hash function to map keys to specific memory locations.\n",
        "  \n",
        "     This enables fast lookups (O(1) average time complexity).\n",
        "\n",
        "\n",
        "\n",
        "Python dictionaries are implemented using hash tables, where:\n",
        "\n",
        "Keys are hashed to determine storage locations.\n",
        "\n",
        "Collisions (duplicate hashes) are handled via open addressing or chaining.\n",
        "\n",
        "The dictionary dynamically resizes to maintain efficiency.\n",
        "\n",
        "\n",
        "\n",
        "---\n",
        "\n"
      ],
      "metadata": {
        "id": "mZpkKwJa7H3k"
      }
    },
    {
      "cell_type": "markdown",
      "source": [
        "9. Can lists contain different data types in Python?\n",
        "\n",
        "  - Yes, in Python, lists can contain different data types. A single list can hold integers, floats, strings, booleans, other lists, tuples, dictionaries, and even functions.\n",
        "\n",
        "\n",
        "\n",
        "---\n",
        "\n"
      ],
      "metadata": {
        "id": "QiY-5wfLhH_0"
      }
    },
    {
      "cell_type": "markdown",
      "source": [
        "10. Explain why strings are immutable in Python?\n",
        "\n",
        "  - Strings in Python are immutable because:\n",
        "\n",
        "  - Memory Efficiency – Saves memory by reusing string objects.\n",
        "\n",
        "  - String Interning – Optimizes performance by storing identical strings once.\n",
        "\n",
        "  - Hashability – Allows strings to be used as dictionary keys and set elements.\n",
        "\n",
        "  - Thread Safety – Prevents unintended modifications in multi-threaded environments.\n",
        "\n",
        "  - Predictability – Avoids accidental changes, making code easier to debug.\n",
        "\n",
        "To modify a string, a new one must be created.\n",
        "\n",
        "\n",
        "---\n",
        "\n"
      ],
      "metadata": {
        "id": "ur3lfCVHhQVd"
      }
    },
    {
      "cell_type": "markdown",
      "source": [
        "11. What advantages do dictionaries offer over lists for certain tasks?\n",
        "\n",
        "- Dictionaries are better than lists for certain tasks because they offer:\n",
        "\n",
        "  - Fast Lookups (O(1)) – Quick key-based access vs. O(n) in lists.\n",
        "\n",
        "  - Key-Based Access – More readable than index-based lists.\n",
        "\n",
        "  - Efficient Insertions & Updates – No need for shifting elements.\n",
        "  - Unique Keys – Prevents duplicates.\n",
        "  - Better for Structured Data – Ideal for mapping related information.\n",
        "\n",
        "\n",
        "---\n",
        "\n"
      ],
      "metadata": {
        "id": "Dfl5YgwyhrS5"
      }
    },
    {
      "cell_type": "markdown",
      "source": [
        "12. Describe a scenario where using a tuple would be preferable over a list\n",
        "\n",
        "  - A tuple is preferable over a list when immutability, performance, or memory efficiency is required.\n",
        "\n",
        "Scenario: Storing Coordinates in a Mapping Application\n",
        "Suppose you're building a GPS-based mapping application where locations are represented by latitude and longitude.\n",
        "location = (40.7128, -74.0060)  # Tuple storing New York City's coordinates\n",
        "\n",
        "    Why Use a Tuple Instead of a List?\n",
        "\n",
        "  - Immutability – Coordinates should not change accidentally, ensuring data integrity.\n",
        "\n",
        "  - Performance – Tuples are faster than lists for fixed data.\n",
        "  - Memory Efficiency – Tuples use less memory than lists.\n",
        "\n",
        "  - Hashability – Tuples can be used as dictionary keys or set elements, unlike lists.\n",
        "\n",
        "\n",
        "\n",
        "---\n",
        "\n"
      ],
      "metadata": {
        "id": "m_cK7wS3iI4L"
      }
    },
    {
      "cell_type": "markdown",
      "source": [
        "13. How do sets handle duplicate values in Python?\n",
        "\n",
        "  - In Python, sets automatically remove duplicate values because they are unordered collections of unique elements. If duplicate values are added to a set, only one instance is stored.\n",
        "\n",
        "\n",
        "---\n",
        "\n"
      ],
      "metadata": {
        "id": "E9pr93Ebik6B"
      }
    },
    {
      "cell_type": "markdown",
      "source": [
        "14. How does the “in” keyword work differently for lists and dictionaries?\n",
        "\n",
        "- The in keyword behaves differently in lists and dictionaries:\n",
        "\n",
        "  - Lists: Checks if an element exists by iterating through the list (O(n) time complexity).\n",
        "\n",
        "  - Dictionary: Checks if a key exists using a hash table (O(1) average time complexity).\n",
        "\n",
        "\n",
        "---\n",
        "\n"
      ],
      "metadata": {
        "id": "MokjKPiDivc8"
      }
    },
    {
      "cell_type": "markdown",
      "source": [
        "15. Can you modify the elements of a tuple? Explain why or why not.\n",
        "\n",
        "  - No, you cannot modify the elements of a tuple because tuples are immutable in Python. This means that once a tuple is created, its elements cannot be changed, added, or removed.\n",
        "\n",
        "\n",
        "---\n",
        "\n"
      ],
      "metadata": {
        "id": "94TeMSzwjAVs"
      }
    },
    {
      "cell_type": "markdown",
      "source": [
        "16. What is a nested dictionary, and give an example of its use case?\n",
        "\n",
        "  - A nested dictionary is a dictionary where values can be other dictionaries, allowing hierarchical data storage.\n",
        "\n",
        "Example Use Case: Storing Employee Records\n",
        "A company might use a nested dictionary to store multiple employees' details:\n",
        "\n",
        "\n",
        "---\n",
        "\n"
      ],
      "metadata": {
        "id": "sWMLSxlvjJ2c"
      }
    },
    {
      "cell_type": "markdown",
      "source": [
        "17. Describe the time complexity of accessing elements in a dictionary\n",
        "\n",
        "- Dictionary Access Time Complexity:\n",
        "\n",
        "  - Average Case: O(1) (Fast lookup using hashing)\n",
        "\n",
        "  - Worst Case: O(n) (Due to hash collisions)\n",
        "Python's dictionary is optimized for O(1) performance in most cases.\n",
        "\n",
        "\n",
        "---\n",
        "\n"
      ],
      "metadata": {
        "id": "PGHJyjdojYbI"
      }
    },
    {
      "cell_type": "markdown",
      "source": [
        "18. In what situations are lists preferred over dictionaries?\n",
        "\n",
        "  - Situations Where Lists Are Preferred Over Dictionaries\n",
        "   \n",
        "   A)Ordered Data Storage – When maintaining the order of elements is important.\n",
        "   \n",
        "   B)Sequential Access & Iteration – Lists are more efficient for iterating over elements.\n",
        "   \n",
        "   C)Homogeneous Data – When storing similar items, like numbers or strings.\n",
        "   \n",
        "   D)Index-Based Access – Lists allow quick access using integer indices.\n",
        "   \n",
        "   E)Memory Efficiency – Lists consume less memory compared to dictionaries for simple collections.\n",
        "\n",
        "   F)When No Key-Value Pairing is Needed – If mapping relationships aren't required, lists are simpler.\n",
        "\n",
        "\n",
        "---\n",
        "\n"
      ],
      "metadata": {
        "id": "HXitVjpbjltm"
      }
    },
    {
      "cell_type": "markdown",
      "source": [
        "19.  Why are dictionaries considered unordered, and how does that affect data retrieval?\n",
        "\n",
        "             Why Are Dictionaries Considered Unordered?\n",
        "  Dictionaries use hashing to store key-value pairs, meaning elements are placed based on their hash values, not a fixed order.\n",
        "\n",
        "  Before Python 3.7: Unordered (randomized storage).\n",
        "  \n",
        "  Python 3.7+: Preserves insertion order but remains key-based.\n",
        "\n",
        "          Effect on Data Retrieval:\n",
        "\n",
        "  No Index-Based Access – Only key lookups work (O(1)).\n",
        "\n",
        "  Retrieval Order (Python 3.7+) – Follows insertion order but not inherently sorted.\n",
        "\n",
        "\n",
        "---\n",
        "\n"
      ],
      "metadata": {
        "id": "ncRYYbQolgVk"
      }
    },
    {
      "cell_type": "markdown",
      "source": [
        "20. Explain the difference between a list and a dictionary in terms of data retrieval.\n",
        "\n",
        "- Difference Between List and Dictionary in Data Retrieval\n",
        "\n",
        "  - ***Access Method***:\n",
        "  \n",
        "    **List**: Uses index-based retrieval (list[index]).\n",
        "    \n",
        "   **Dictionary**: Uses key-based retrieval (dict[key]).\n",
        "\n",
        "  - ***Time Complexity***:\n",
        "\n",
        "    **List**: O(1) for direct index access, O(n) for searching.\n",
        "\n",
        "    **Dictionary**: O(1) for key lookups (hashing).\n",
        "\n",
        "  - ***Ordering***:\n",
        "  \n",
        "    **List**: Maintains insertion order.\n",
        "    \n",
        "    **Dictionary**: Preserves insertion order (Python 3.7+), but keys are hashed.\n",
        "\n",
        "  - ***Use Case***:\n",
        "    \n",
        "    **List**: Best for ordered, sequential data.\n",
        "    \n",
        "    **Dictionary:** Best for key-value mappings and fast lookups.\n",
        "\n",
        "\n",
        "---\n",
        "\n"
      ],
      "metadata": {
        "id": "RKNBEDRzl9TW"
      }
    },
    {
      "cell_type": "markdown",
      "source": [
        "# **Practical Questions**\n",
        "\n",
        "\n",
        "\n",
        "---\n",
        "\n"
      ],
      "metadata": {
        "id": "eJdxdJDiS8qE"
      }
    },
    {
      "cell_type": "code",
      "source": [
        "# 1. Write a code to create a string with your name and print it\n",
        "\n",
        "name = \"Manav Chhabria\"\n",
        "print(name)"
      ],
      "metadata": {
        "colab": {
          "base_uri": "https://localhost:8080/"
        },
        "id": "ECmo0aYlTGIy",
        "outputId": "20085735-ca24-4bb6-9d89-906cb6505198"
      },
      "execution_count": 2,
      "outputs": [
        {
          "output_type": "stream",
          "name": "stdout",
          "text": [
            "Manav Chhabria\n"
          ]
        }
      ]
    },
    {
      "cell_type": "code",
      "source": [
        "# 2. Write a code to find the length of the string \"Hello World\"\n",
        "\n",
        "string = \"Hello World\"\n",
        "length = len(string)\n",
        "print(\"Length of the string:\", length)"
      ],
      "metadata": {
        "colab": {
          "base_uri": "https://localhost:8080/"
        },
        "id": "Nb41ggOLTZQP",
        "outputId": "bed2bd34-0ce7-46b1-e134-1844ea68e6fd"
      },
      "execution_count": 3,
      "outputs": [
        {
          "output_type": "stream",
          "name": "stdout",
          "text": [
            "Length of the string: 11\n"
          ]
        }
      ]
    },
    {
      "cell_type": "code",
      "source": [
        "# 3.  Write a code to slice the first 3 characters from the string \"Python Programming\"\n",
        "\n",
        "string = \"Python Programming\"\n",
        "sliced_string = string[:3]  # Slicing first 3 characters\n",
        "print(\"Sliced string:\", sliced_string)"
      ],
      "metadata": {
        "colab": {
          "base_uri": "https://localhost:8080/"
        },
        "id": "cDT2tQJHTgMh",
        "outputId": "59a48b60-d3c1-48f2-b79a-d997f128c05c"
      },
      "execution_count": 4,
      "outputs": [
        {
          "output_type": "stream",
          "name": "stdout",
          "text": [
            "Sliced string: Pyt\n"
          ]
        }
      ]
    },
    {
      "cell_type": "code",
      "source": [
        "# 4.  Write a code to convert the string \"hello\" to uppercase\n",
        "\n",
        "string = \"hello\"\n",
        "uppercase_string = string.upper()  # Convert to uppercase\n",
        "print(uppercase_string)"
      ],
      "metadata": {
        "colab": {
          "base_uri": "https://localhost:8080/"
        },
        "id": "ze_6t27WTnhm",
        "outputId": "0c9a0e5a-4888-441f-ec8a-4c55948883d8"
      },
      "execution_count": 5,
      "outputs": [
        {
          "output_type": "stream",
          "name": "stdout",
          "text": [
            "HELLO\n"
          ]
        }
      ]
    },
    {
      "cell_type": "code",
      "source": [
        "# 5. Write a code to replace the word \"apple\" with \"orange\" in the string \"I like apple\"\n",
        "\n",
        "string = \"I like apple\"\n",
        "new_string = string.replace(\"apple\", \"orange\")  # Replacing 'apple' with 'orange'\n",
        "print(new_string)"
      ],
      "metadata": {
        "colab": {
          "base_uri": "https://localhost:8080/"
        },
        "id": "lt00VoUqTtWZ",
        "outputId": "fb37996a-3d5f-46ff-cf44-fe62f9975305"
      },
      "execution_count": 6,
      "outputs": [
        {
          "output_type": "stream",
          "name": "stdout",
          "text": [
            "I like orange\n"
          ]
        }
      ]
    },
    {
      "cell_type": "code",
      "source": [
        "# 6. Write a code to create a list with numbers 1 to 5 and print it\n",
        "\n",
        "numbers = [1, 2, 3, 4, 5]\n",
        "print(numbers)"
      ],
      "metadata": {
        "colab": {
          "base_uri": "https://localhost:8080/"
        },
        "id": "REcicSCVTz1W",
        "outputId": "52ebb3ec-7ff4-4dd4-ce5e-842ecc34617a"
      },
      "execution_count": 7,
      "outputs": [
        {
          "output_type": "stream",
          "name": "stdout",
          "text": [
            "[1, 2, 3, 4, 5]\n"
          ]
        }
      ]
    },
    {
      "cell_type": "code",
      "source": [
        "# 7. Write a code to append the number 10 to the list [1, 2, 3, 4]\n",
        "\n",
        "numbers = [1, 2, 3, 4]\n",
        "numbers.append(10)  # Appending 10 to the list\n",
        "print(numbers)"
      ],
      "metadata": {
        "colab": {
          "base_uri": "https://localhost:8080/"
        },
        "id": "VHXazFwzT7L4",
        "outputId": "f161e2d2-5237-4322-e85e-c36d9dffd805"
      },
      "execution_count": 8,
      "outputs": [
        {
          "output_type": "stream",
          "name": "stdout",
          "text": [
            "[1, 2, 3, 4, 10]\n"
          ]
        }
      ]
    },
    {
      "cell_type": "code",
      "source": [
        "# 8. Write a code to remove the number 3 from the list [1, 2, 3, 4, 5]\n",
        "\n",
        "numbers = [1, 2, 3, 4, 5]\n",
        "numbers.remove(3)  # Removing the number 3\n",
        "print(numbers)"
      ],
      "metadata": {
        "colab": {
          "base_uri": "https://localhost:8080/"
        },
        "id": "r3JAsZ3wUMEH",
        "outputId": "224d7cff-b4ed-4daa-a10c-477e8c86595b"
      },
      "execution_count": 9,
      "outputs": [
        {
          "output_type": "stream",
          "name": "stdout",
          "text": [
            "[1, 2, 4, 5]\n"
          ]
        }
      ]
    },
    {
      "cell_type": "code",
      "source": [
        "# 9.  Write a code to access the second element in the list ['a', 'b', 'c', 'd']\n",
        "\n",
        "letters = ['a', 'b', 'c', 'd']\n",
        "second_element = letters[1]  # Accessing the second element\n",
        "print(second_element)"
      ],
      "metadata": {
        "colab": {
          "base_uri": "https://localhost:8080/"
        },
        "id": "e-_-qXqnUX3j",
        "outputId": "9c22b836-cb9b-423e-b3eb-255ecdf0cfa0"
      },
      "execution_count": 10,
      "outputs": [
        {
          "output_type": "stream",
          "name": "stdout",
          "text": [
            "b\n"
          ]
        }
      ]
    },
    {
      "cell_type": "code",
      "source": [
        "# 10. Write a code to reverse the list [10, 20, 30, 40, 50].\n",
        "\n",
        "numbers = [10, 20, 30, 40, 50]\n",
        "numbers.reverse()  # Reversing the list in place\n",
        "print(numbers)\n"
      ],
      "metadata": {
        "colab": {
          "base_uri": "https://localhost:8080/"
        },
        "id": "k77O6kgrUibn",
        "outputId": "31f97dc2-0fe0-49de-9100-14cb52daa774"
      },
      "execution_count": 11,
      "outputs": [
        {
          "output_type": "stream",
          "name": "stdout",
          "text": [
            "[50, 40, 30, 20, 10]\n"
          ]
        }
      ]
    },
    {
      "cell_type": "code",
      "source": [
        "# 11. Write a code to create a tuple with the elements 100, 200, 300 and print it\n",
        "\n",
        "numbers_tuple = (100, 200, 300)\n",
        "print(numbers_tuple)\n"
      ],
      "metadata": {
        "colab": {
          "base_uri": "https://localhost:8080/"
        },
        "id": "ZfvB2iRbUuFi",
        "outputId": "fae992a1-e164-42f5-b86c-ad853592c529"
      },
      "execution_count": 12,
      "outputs": [
        {
          "output_type": "stream",
          "name": "stdout",
          "text": [
            "(100, 200, 300)\n"
          ]
        }
      ]
    },
    {
      "cell_type": "code",
      "source": [
        "# 12. Write a code to access the second-to-last element of the tuple ('red', 'green', 'blue', 'yellow')\n",
        "\n",
        "colors = ('red', 'green', 'blue', 'yellow')\n",
        "second_to_last = colors[-2]  # Accessing the second-to-last element\n",
        "print(second_to_last)\n"
      ],
      "metadata": {
        "colab": {
          "base_uri": "https://localhost:8080/"
        },
        "id": "h2Ay9EpDU3XK",
        "outputId": "b72dea41-1df9-4083-acc0-b9cb8a8da12c"
      },
      "execution_count": 13,
      "outputs": [
        {
          "output_type": "stream",
          "name": "stdout",
          "text": [
            "blue\n"
          ]
        }
      ]
    },
    {
      "cell_type": "code",
      "source": [
        "# 13. Write a code to find the minimum number in the tuple (10, 20, 5, 15).\n",
        "\n",
        "numbers = (10, 20, 5, 15)\n",
        "min_number = min(numbers)  # Finding the minimum number\n",
        "print(\"Minimum number:\", min_number)\n"
      ],
      "metadata": {
        "colab": {
          "base_uri": "https://localhost:8080/"
        },
        "id": "2V5uKx-kVDaT",
        "outputId": "e4b1dcbb-bb99-4cf7-f9cd-b200f9fc8002"
      },
      "execution_count": 14,
      "outputs": [
        {
          "output_type": "stream",
          "name": "stdout",
          "text": [
            "Minimum number: 5\n"
          ]
        }
      ]
    },
    {
      "cell_type": "code",
      "source": [
        "# 14.  Write a code to find the index of the element \"cat\" in the tuple ('dog', 'cat', 'rabbit').\n",
        "\n",
        "animals = ('dog', 'cat', 'rabbit')\n",
        "index_of_cat = animals.index('cat')  # Finding the index of 'cat'\n",
        "print(\"Index of 'cat':\", index_of_cat)"
      ],
      "metadata": {
        "colab": {
          "base_uri": "https://localhost:8080/"
        },
        "id": "eM6pCtugVLvq",
        "outputId": "f067a87a-cadc-4610-a5c7-25a2d3dd1f75"
      },
      "execution_count": 15,
      "outputs": [
        {
          "output_type": "stream",
          "name": "stdout",
          "text": [
            "Index of 'cat': 1\n"
          ]
        }
      ]
    },
    {
      "cell_type": "code",
      "source": [
        "# 15. Write a code to create a tuple containing three different fruits and check if \"kiwi\" is in it\n",
        "\n",
        "fruits = (\"apple\", \"banana\", \"mango\")\n",
        "is_kiwi_present = \"kiwi\" in fruits  # Checking if 'kiwi' is in the tuple\n",
        "print(\"Is 'kiwi' in the tuple?\", is_kiwi_present)"
      ],
      "metadata": {
        "colab": {
          "base_uri": "https://localhost:8080/"
        },
        "id": "wj_dX8kxVT83",
        "outputId": "c51fc58f-d5e8-4970-ae0b-fbaea38135f7"
      },
      "execution_count": 16,
      "outputs": [
        {
          "output_type": "stream",
          "name": "stdout",
          "text": [
            "Is 'kiwi' in the tuple? False\n"
          ]
        }
      ]
    },
    {
      "cell_type": "code",
      "source": [
        "# 16.  Write a code to create a set with the elements 'a', 'b', 'c' and print it\n",
        "\n",
        "my_set = {'a', 'b', 'c'}\n",
        "print(my_set)\n"
      ],
      "metadata": {
        "colab": {
          "base_uri": "https://localhost:8080/"
        },
        "id": "55zviVWBVh0j",
        "outputId": "4d592fbd-d431-4088-a409-77ffb4ddcc2e"
      },
      "execution_count": 17,
      "outputs": [
        {
          "output_type": "stream",
          "name": "stdout",
          "text": [
            "{'a', 'b', 'c'}\n"
          ]
        }
      ]
    },
    {
      "cell_type": "code",
      "source": [
        "# 17. Write a code to clear all elements from the set {1, 2, 3, 4, 5}.\n",
        "\n",
        "numbers = {1, 2, 3, 4, 5}\n",
        "numbers.clear()  # Clearing all elements from the set\n",
        "print(numbers)\n"
      ],
      "metadata": {
        "colab": {
          "base_uri": "https://localhost:8080/"
        },
        "id": "kMjDXNDyVhyI",
        "outputId": "9a73ad1c-4889-4954-842d-89652a1c56e7"
      },
      "execution_count": 18,
      "outputs": [
        {
          "output_type": "stream",
          "name": "stdout",
          "text": [
            "set()\n"
          ]
        }
      ]
    },
    {
      "cell_type": "code",
      "source": [
        "# 18. Write a code to remove the element 4 from the set {1, 2, 3, 4}.\n",
        "\n",
        "numbers = {1, 2, 3, 4}\n",
        "numbers.remove(4)  # Removing the element 4\n",
        "print(numbers)\n"
      ],
      "metadata": {
        "colab": {
          "base_uri": "https://localhost:8080/"
        },
        "id": "XWjNKnFyVhuD",
        "outputId": "1958666b-3ee4-49d4-88cb-4b313609731f"
      },
      "execution_count": 19,
      "outputs": [
        {
          "output_type": "stream",
          "name": "stdout",
          "text": [
            "{1, 2, 3}\n"
          ]
        }
      ]
    },
    {
      "cell_type": "code",
      "source": [
        "# 19.  Write a code to find the union of two sets {1, 2, 3} and {3, 4, 5}.\n",
        "\n",
        "set1 = {1, 2, 3}\n",
        "set2 = {3, 4, 5}\n",
        "union_set = set1.union(set2)  # Finding the union of the sets\n",
        "print(union_set)"
      ],
      "metadata": {
        "colab": {
          "base_uri": "https://localhost:8080/"
        },
        "id": "6riKJNqpVhrD",
        "outputId": "e2cd236c-1caf-491f-bd5a-a070916e1b9a"
      },
      "execution_count": 20,
      "outputs": [
        {
          "output_type": "stream",
          "name": "stdout",
          "text": [
            "{1, 2, 3, 4, 5}\n"
          ]
        }
      ]
    },
    {
      "cell_type": "code",
      "source": [
        "# 20.  Write a code to find the intersection of two sets {1, 2, 3} and {2, 3, 4}.\n",
        "\n",
        "set1 = {1, 2, 3}\n",
        "set2 = {2, 3, 4}\n",
        "intersection_set = set1 & set2  # Using '&' operator for intersection\n",
        "print(intersection_set)\n"
      ],
      "metadata": {
        "colab": {
          "base_uri": "https://localhost:8080/"
        },
        "id": "Ps10rElAVhXL",
        "outputId": "8a4c98ad-7c8e-4c55-bf0c-b1dfe9ea3ba0"
      },
      "execution_count": 21,
      "outputs": [
        {
          "output_type": "stream",
          "name": "stdout",
          "text": [
            "{2, 3}\n"
          ]
        }
      ]
    },
    {
      "cell_type": "code",
      "source": [
        "# 21. Write a code to create a dictionary with the keys \"name\", \"age\", and \"city\", and print it\n",
        "\n",
        "person = {\n",
        "    \"name\": \"Manav\",\n",
        "    \"age\": 24,\n",
        "    \"city\": \"Mumbai\"\n",
        "}\n",
        "print(person)\n"
      ],
      "metadata": {
        "colab": {
          "base_uri": "https://localhost:8080/"
        },
        "id": "zz4SIkGmY15U",
        "outputId": "b1261389-d4d0-4ebe-952f-56b9debbff43"
      },
      "execution_count": 23,
      "outputs": [
        {
          "output_type": "stream",
          "name": "stdout",
          "text": [
            "{'name': 'Manav', 'age': 24, 'city': 'Mumbai'}\n"
          ]
        }
      ]
    },
    {
      "cell_type": "code",
      "source": [
        "# 22.  Write a code to add a new key-value pair \"country\": \"USA\" to the dictionary {'name': 'John', 'age': 25}\n",
        "\n",
        "person = {'name': 'John', 'age': 25}\n",
        "person['country'] = 'USA'  # Adding a new key-value pair\n",
        "print(person)\n"
      ],
      "metadata": {
        "colab": {
          "base_uri": "https://localhost:8080/"
        },
        "id": "ObkdJPisY-3c",
        "outputId": "499b4b7d-0cea-486d-d714-2e5b64bb9b57"
      },
      "execution_count": 24,
      "outputs": [
        {
          "output_type": "stream",
          "name": "stdout",
          "text": [
            "{'name': 'John', 'age': 25, 'country': 'USA'}\n"
          ]
        }
      ]
    },
    {
      "cell_type": "code",
      "source": [
        "# 23. Write a code to access the value associated with the key \"name\" in the dictionary {'name': 'Alice', 'age': 30}\n",
        "\n",
        "person = {'name': 'Alice', 'age': 30}\n",
        "name_value = person['name']  # Accessing the value of 'name'\n",
        "print(name_value)\n"
      ],
      "metadata": {
        "colab": {
          "base_uri": "https://localhost:8080/"
        },
        "id": "xedGIzY6ZamY",
        "outputId": "59545b1e-6471-4a74-9c48-a11ae7fbaf56"
      },
      "execution_count": 25,
      "outputs": [
        {
          "output_type": "stream",
          "name": "stdout",
          "text": [
            "Alice\n"
          ]
        }
      ]
    },
    {
      "cell_type": "code",
      "source": [
        "# 24.  Write a code to remove the key \"age\" from the dictionary {'name': 'Bob', 'age': 22, 'city': 'New York'}\n",
        "\n",
        "person = {'name': 'Bob', 'age': 22, 'city': 'New York'}\n",
        "del person['age']  # Deleting the key 'age'\n",
        "print(person)\n"
      ],
      "metadata": {
        "colab": {
          "base_uri": "https://localhost:8080/"
        },
        "id": "jHPD7r75ZnL4",
        "outputId": "52646dda-6b5e-454f-afdd-01e5b92c59c6"
      },
      "execution_count": 26,
      "outputs": [
        {
          "output_type": "stream",
          "name": "stdout",
          "text": [
            "{'name': 'Bob', 'city': 'New York'}\n"
          ]
        }
      ]
    },
    {
      "cell_type": "code",
      "source": [
        "# 25.  Write a code to check if the key \"city\" exists in the dictionary {'name': 'Alice', 'city': 'Paris'}.\n",
        "\n",
        "person = {'name': 'Alice', 'city': 'Paris'}\n",
        "key_exists = 'city' in person  # Checking if 'city' exists in the dictionary\n",
        "print(\"Does 'city' exist in the dictionary?\", key_exists)\n"
      ],
      "metadata": {
        "colab": {
          "base_uri": "https://localhost:8080/"
        },
        "id": "kcDlhdk-ZxBg",
        "outputId": "1e1c7ca7-8600-42f8-da1e-156a7b2c5f42"
      },
      "execution_count": 27,
      "outputs": [
        {
          "output_type": "stream",
          "name": "stdout",
          "text": [
            "Does 'city' exist in the dictionary? True\n"
          ]
        }
      ]
    },
    {
      "cell_type": "code",
      "source": [
        "# 26. Write a code to create a list, a tuple, and a dictionary, and print them all\n",
        "\n",
        "# Creating a list\n",
        "my_list = [1, 2, 3, 4, 5, 6]\n",
        "\n",
        "# Creating a tuple\n",
        "my_tuple = ('apple', 'orange', 'mango')\n",
        "\n",
        "# Creating a dictionary\n",
        "my_dict = {'name': 'Manav', 'age': 24, 'city': 'Mumbai'}\n",
        "\n",
        "# Printing all\n",
        "print(\"List:\", my_list)\n",
        "print(\"Tuple:\", my_tuple)\n",
        "print(\"Dictionary:\", my_dict)\n"
      ],
      "metadata": {
        "colab": {
          "base_uri": "https://localhost:8080/"
        },
        "id": "7FKPj9y8Z6Av",
        "outputId": "d4548ac6-0d6e-427c-9003-7fc1ae5650f8"
      },
      "execution_count": 30,
      "outputs": [
        {
          "output_type": "stream",
          "name": "stdout",
          "text": [
            "List: [1, 2, 3, 4, 5, 6]\n",
            "Tuple: ('apple', 'orange', 'mango')\n",
            "Dictionary: {'name': 'Manav', 'age': 24, 'city': 'Mumbai'}\n"
          ]
        }
      ]
    },
    {
      "cell_type": "code",
      "source": [
        "# 27. Write a code to create a list of 5 random numbers between 1 and 100, sort it in ascending order, and print the result.(replaced)\n",
        "\n",
        "import random\n",
        "\n",
        "# Generating a list of 5 random numbers between 1 and 100\n",
        "random_numbers = random.sample(range(1, 101), 5)\n",
        "\n",
        "# Sorting the list in ascending order\n",
        "random_numbers.sort()\n",
        "\n",
        "# Printing the sorted list\n",
        "print(\"Sorted list:\", random_numbers)\n"
      ],
      "metadata": {
        "colab": {
          "base_uri": "https://localhost:8080/"
        },
        "id": "R7em80oxaQVm",
        "outputId": "cb61135a-15bf-49bd-df25-1a4ab1e236eb"
      },
      "execution_count": 32,
      "outputs": [
        {
          "output_type": "stream",
          "name": "stdout",
          "text": [
            "Sorted list: [20, 73, 80, 90, 96]\n"
          ]
        }
      ]
    },
    {
      "cell_type": "code",
      "source": [
        "# 28.  Write a code to create a list with strings and print the element at the third index.\n",
        "\n",
        "# Creating a list with strings\n",
        "words = [\"mumbai\", \"chennai\", \"delhi\", \"kolkata\", \"pune\"]\n",
        "\n",
        "# Accessing the element at index 3\n",
        "third_index_element = words[3]\n",
        "\n",
        "# Printing the element\n",
        "print(\"Element at index 3:\", third_index_element)\n"
      ],
      "metadata": {
        "colab": {
          "base_uri": "https://localhost:8080/"
        },
        "id": "dnjGoOd0afGk",
        "outputId": "6f495e6d-c677-4e24-d672-3208f47e3968"
      },
      "execution_count": 34,
      "outputs": [
        {
          "output_type": "stream",
          "name": "stdout",
          "text": [
            "Element at index 3: kolkata\n"
          ]
        }
      ]
    },
    {
      "cell_type": "code",
      "source": [
        "# 29.  Write a code to combine two dictionaries into one and print the result\n",
        "\n",
        "dict1 = {'a': 1, 'b': 2}\n",
        "dict2 = {'c': 3, 'd': 4}\n",
        "\n",
        "# Combining dictionaries\n",
        "combined_dict = {**dict1, **dict2}\n",
        "\n",
        "# Printing the result\n",
        "print(\"Combined Dictionary:\", combined_dict)\n"
      ],
      "metadata": {
        "colab": {
          "base_uri": "https://localhost:8080/"
        },
        "id": "ZIWYE2ZZbPnh",
        "outputId": "9f881d60-b988-48d9-d894-6b351698b554"
      },
      "execution_count": 37,
      "outputs": [
        {
          "output_type": "stream",
          "name": "stdout",
          "text": [
            "Combined Dictionary: {'a': 1, 'b': 2, 'c': 3, 'd': 4}\n"
          ]
        }
      ]
    },
    {
      "cell_type": "code",
      "source": [
        "# 30. Write a code to convert a list of strings into a set.\n",
        "\n",
        "# Creating a list of strings\n",
        "words_list = [\"mumbai\", \"pune\", \"delhi\", \"mumbai\", \"pune\"]\n",
        "\n",
        "# Converting the list into a set\n",
        "words_set = set(words_list)\n",
        "\n",
        "# Printing the result\n",
        "print(\"Set:\", words_set)\n"
      ],
      "metadata": {
        "colab": {
          "base_uri": "https://localhost:8080/"
        },
        "id": "mL1KL0PAbYOb",
        "outputId": "bf62d83f-c0df-40d7-e2fb-43ff2f224a1a"
      },
      "execution_count": 39,
      "outputs": [
        {
          "output_type": "stream",
          "name": "stdout",
          "text": [
            "Set: {'delhi', 'mumbai', 'pune'}\n"
          ]
        }
      ]
    },
    {
      "cell_type": "markdown",
      "source": [],
      "metadata": {
        "id": "iEABBlrci9fT"
      }
    },
    {
      "cell_type": "markdown",
      "source": [],
      "metadata": {
        "id": "UNBEgPZ263Yt"
      }
    }
  ]
}